{
 "cells": [
  {
   "cell_type": "markdown",
   "id": "ff20787a-08a8-43b0-924f-b79e625fa775",
   "metadata": {},
   "source": [
    "# 03 - Layout aware text extraction with Amazon Textract"
   ]
  },
  {
   "cell_type": "code",
   "execution_count": 2,
   "id": "a2321573-2b17-40dc-afcf-6075f2a8489e",
   "metadata": {},
   "outputs": [
    {
     "name": "stdout",
     "output_type": "stream",
     "text": [
      "\u001b[33mWARNING: Running pip as the 'root' user can result in broken permissions and conflicting behaviour with the system package manager. It is recommended to use a virtual environment instead: https://pip.pypa.io/warnings/venv\u001b[0m\u001b[33m\n",
      "\u001b[0mNote: you may need to restart the kernel to use updated packages.\n"
     ]
    }
   ],
   "source": [
    "%pip install -q amazon-textract-textractor[pdf]"
   ]
  },
  {
   "cell_type": "code",
   "execution_count": 3,
   "id": "9889c475-cef9-4276-840f-7aee770d48ac",
   "metadata": {},
   "outputs": [
    {
     "name": "stdout",
     "output_type": "stream",
     "text": [
      "Linux sagemaker-ds-3-instance 4.14.336-257.568.amzn2.x86_64 #1 SMP Sat Mar 23 09:49:55 UTC 2024 x86_64 x86_64 x86_64 GNU/Linux\n"
     ]
    }
   ],
   "source": [
    "!uname -a"
   ]
  },
  {
   "cell_type": "code",
   "execution_count": 4,
   "id": "19435f95-fc3d-4769-a039-f6c48a625dbd",
   "metadata": {},
   "outputs": [],
   "source": [
    "!sudo apt-get update -y 2> /dev/null"
   ]
  },
  {
   "cell_type": "code",
   "execution_count": 5,
   "id": "bf5623fd-a3f8-4b9f-98d1-fedd4e26b33f",
   "metadata": {},
   "outputs": [],
   "source": [
    "!sudo apt install poppler-utils -y 2> /dev/null"
   ]
  },
  {
   "cell_type": "code",
   "execution_count": 6,
   "id": "28790f37-351a-4f36-a153-39d32cc86539",
   "metadata": {},
   "outputs": [
    {
     "name": "stdout",
     "output_type": "stream",
     "text": [
      "\u001b[33mWARNING: Running pip as the 'root' user can result in broken permissions and conflicting behaviour with the system package manager. It is recommended to use a virtual environment instead: https://pip.pypa.io/warnings/venv\u001b[0m\u001b[33m\n",
      "\u001b[0mNote: you may need to restart the kernel to use updated packages.\n"
     ]
    }
   ],
   "source": [
    "# used by mazon-textract-textractor to visualize images with extraction results\n",
    "%pip install -q pdf2image"
   ]
  },
  {
   "cell_type": "code",
   "execution_count": 7,
   "id": "20bd6519-22e6-41e4-8353-632c2d68da00",
   "metadata": {},
   "outputs": [
    {
     "name": "stdout",
     "output_type": "stream",
     "text": [
      "\u001b[0m\u001b[01;34mAmazon\u001b[0m/  \u001b[01;34mprepared\u001b[0m/\n"
     ]
    }
   ],
   "source": [
    "ls raw_documents/"
   ]
  },
  {
   "cell_type": "code",
   "execution_count": 8,
   "id": "3b72e529-3bf4-4a46-a059-d488e8b8a8bd",
   "metadata": {},
   "outputs": [
    {
     "name": "stdout",
     "output_type": "stream",
     "text": [
      "\u001b[0m\u001b[01;34mAmazon\u001b[0m/  metadata.json\n"
     ]
    }
   ],
   "source": [
    "ls raw_documents/prepared/"
   ]
  },
  {
   "cell_type": "code",
   "execution_count": 9,
   "id": "b6713d74-77c4-4c99-a991-bdbc83585199",
   "metadata": {},
   "outputs": [
    {
     "name": "stdout",
     "output_type": "stream",
     "text": [
      "annual_report_2021.pdf  annual_report_2022.pdf\n"
     ]
    }
   ],
   "source": [
    "ls raw_documents/prepared/Amazon/"
   ]
  },
  {
   "cell_type": "code",
   "execution_count": 10,
   "id": "f68c5ca7-4632-4a01-8115-e285289fe1f5",
   "metadata": {},
   "outputs": [
    {
     "name": "stdout",
     "output_type": "stream",
     "text": [
      "[\n",
      "    {\n",
      "        \"company\": \"Amazon\",\n",
      "        \"year\": \"2022\",\n",
      "        \"doc_url\": \"https://s2.q4cdn.com/299287126/files/doc_financials/2023/ar/Amazon-2022-Annual-Report.pdf\",\n",
      "        \"local_pdf_path\": \"raw_documents/prepared/Amazon/annual_report_2022.pdf\",\n",
      "        \"pages_kept\": [\n",
      "            15,\n",
      "            17,\n",
      "            18,\n",
      "            47,\n",
      "            48\n",
      "        ]\n",
      "    },\n",
      "    {\n",
      "        \"company\": \"Amazon\",\n",
      "        \"year\": \"2021\",\n",
      "        \"doc_url\": \"https://s2.q4cdn.com/299287126/files/doc_financials/2022/ar/Amazon-2021-Annual-Report.pdf\",\n",
      "        \"local_pdf_path\": \"raw_documents/prepared/Amazon/annual_report_2021.pdf\",\n",
      "        \"pages_kept\": [\n",
      "            14,\n",
      "            16,\n",
      "            17,\n",
      "            18,\n",
      "            46,\n",
      "            47\n",
      "        ]\n",
      "    }\n",
      "]\n"
     ]
    }
   ],
   "source": [
    "!python -m json.tool raw_documents/prepared/metadata.json"
   ]
  },
  {
   "cell_type": "markdown",
   "id": "9cb3114c-e1db-46dc-8234-f98f58a135f2",
   "metadata": {},
   "source": [
    "## Extraction with textractor"
   ]
  },
  {
   "cell_type": "code",
   "execution_count": 11,
   "id": "363c90b1-b849-447f-a8c9-b64d9d655e73",
   "metadata": {},
   "outputs": [
    {
     "name": "stdout",
     "output_type": "stream",
     "text": [
      "sagemaker.config INFO - Not applying SDK defaults from location: /etc/xdg/sagemaker/config.yaml\n",
      "sagemaker.config INFO - Not applying SDK defaults from location: /root/.config/sagemaker/config.yaml\n"
     ]
    }
   ],
   "source": [
    "import sagemaker\n",
    "\n",
    "default_sagemaker_bucket = sagemaker.Session().default_bucket()\n",
    "sagemaker_execution_role = sagemaker.get_execution_role()"
   ]
  },
  {
   "cell_type": "code",
   "execution_count": 14,
   "id": "653a51ce-5f25-48f3-a2f9-ce7964732768",
   "metadata": {},
   "outputs": [],
   "source": [
    "import boto3\n",
    "from textractor import Textractor\n",
    "from textractor.data.constants import TextractFeatures\n",
    "\n",
    "region = boto3.session.Session().region_name\n",
    "# extractor = Textractor(profile_name=\"default\")\n",
    "extractor = Textractor(region_name=region)\n",
    "\n",
    "input_document = \"raw_documents/prepared/Amazon/annual_report_2022.pdf\"\n",
    "\n",
    "document = extractor.start_document_analysis(\n",
    "    file_source=input_document,\n",
    "    s3_upload_path=f\"s3://{default_sagemaker_bucket}/input_documents/\",\n",
    "    s3_output_path=f\"s3://{default_sagemaker_bucket}/output_documents/\",\n",
    "    features=[TextractFeatures.LAYOUT],\n",
    "    save_image=False\n",
    ")"
   ]
  },
  {
   "cell_type": "code",
   "execution_count": 15,
   "id": "ada94249-6a6e-4bbd-a790-0d23fb4fe5c6",
   "metadata": {},
   "outputs": [],
   "source": [
    "document.document"
   ]
  },
  {
   "cell_type": "code",
   "execution_count": 16,
   "id": "118c3f36-30d6-4c01-8d10-0f9a30b998e2",
   "metadata": {},
   "outputs": [
    {
     "data": {
      "text/plain": [
       "This Page (1) holds the following data:\n",
       "Words - 788\n",
       "Lines - 54\n",
       "Key-values - 0\n",
       "Checkboxes - 0\n",
       "Tables - 0\n",
       "Queries - 0\n",
       "Signatures - 0\n",
       "Expense documents - 0\n",
       "Layout elements - 10"
      ]
     },
     "execution_count": 16,
     "metadata": {},
     "output_type": "execute_result"
    }
   ],
   "source": [
    "document.pages[0]"
   ]
  },
  {
   "cell_type": "code",
   "execution_count": 17,
   "id": "fff7a03c-b86f-49fa-b293-b2a056e2bb1f",
   "metadata": {},
   "outputs": [
    {
     "name": "stdout",
     "output_type": "stream",
     "text": [
      "AMAZON.COM, INC. \n",
      "\n",
      "# CONSOLIDATED STATEMENTS OF OPERATIONS \n",
      "\n",
      "(in millions, except per share data) \n",
      "\n",
      "\n",
      "\n",
      "Year Ended December 31,\n",
      "2020\t2021\t2022\n",
      "Net product sales\t$\t215,915\t$\t241,787\t$\t242,901\n",
      "Net service sales\t170,149\t228,035\t271,082\n",
      "Total net sales\t386,064\t469,822\t513,983\n",
      "Operating expenses:\n",
      "Cost of sales\t233,307\t272,344\t288,831\n",
      "Fulfillment\t58,517\t75,111\t84,299\n",
      "Technology and content\t42,740\t56,052\t73,213\n",
      "Sales and marketing\t22,008\t32,551\t42,238\n",
      "General and administrative\t6,668\t8,823\t11,891\n",
      "Other operating expense (income), net\t(75)\t62\t1,263\n",
      "Total operating expenses\t363,165\t444,943\t501,735\n",
      "Operating income\t22,899\t24,879\t12,248\n",
      "Interest income\t555\t448\t989\n",
      "Interest expense\t(1,647)\t(1,809)\t(2,367)\n",
      "Other income (expense), net\t2,371\t14,633\t(16,806)\n",
      "Total non-operating income (expense)\t1,279\t13,272\t(18,184)\n",
      "Income (loss) before income taxes\t24,178\t38,151\t(5,936)\n",
      "Benefit (provision) for income taxes\t(2,863)\t(4,791)\t3,217\n",
      "Equity-method investment activity, net of tax\t16\t4\t(3)\n",
      "Net income (loss)\t$\t21,331\t$\t33,364\t$\t(2,722)\n",
      "Basic earnings per share\t$\t2.13 $\t3.30 $\t(0.27)\n",
      "Diluted earnings per share\t$\t2.09 $\t3.24\t$\t(0.27)\n",
      "Weighted-average shares used in computation of earnings per share:\n",
      "Basic\t10,005\t10,117\t10,189\n",
      "Diluted\t10,198\t10,296\t10,189\n",
      "\n",
      "\n",
      "\n",
      "See accompanying notes to consolidated financial statements. \n",
      "\n",
      "37\n",
      "\n"
     ]
    }
   ],
   "source": [
    "print(document.pages[4].to_markdown())"
   ]
  },
  {
   "cell_type": "code",
   "execution_count": 18,
   "id": "203a6eac-7de3-414d-93a4-2d769054e349",
   "metadata": {},
   "outputs": [
    {
     "name": "stdout",
     "output_type": "stream",
     "text": [
      "Note: you may need to restart the kernel to use updated packages.\n"
     ]
    }
   ],
   "source": [
    "%pip install -U -q pydantic 2> /dev/null"
   ]
  },
  {
   "cell_type": "code",
   "execution_count": 19,
   "id": "c4a24b27-4948-4d0a-9543-c157e9344964",
   "metadata": {},
   "outputs": [
    {
     "name": "stdout",
     "output_type": "stream",
     "text": [
      "\u001b[33mWARNING: Running pip as the 'root' user can result in broken permissions and conflicting behaviour with the system package manager. It is recommended to use a virtual environment instead: https://pip.pypa.io/warnings/venv\u001b[0m\u001b[33m\n",
      "\u001b[0mNote: you may need to restart the kernel to use updated packages.\n"
     ]
    }
   ],
   "source": [
    "%pip install -U -q \"anthropic[bedrock]\""
   ]
  },
  {
   "cell_type": "code",
   "execution_count": 20,
   "id": "2714569b-4cc8-481b-a90a-b7398ebf1c6d",
   "metadata": {},
   "outputs": [],
   "source": [
    "from anthropic import Anthropic\n",
    "\n",
    "anthropic_client = Anthropic()"
   ]
  },
  {
   "cell_type": "code",
   "execution_count": 21,
   "id": "e9d6a050-8afc-4c84-b732-0ef7386d0faf",
   "metadata": {},
   "outputs": [
    {
     "data": {
      "text/plain": [
       "1038"
      ]
     },
     "execution_count": 21,
     "metadata": {},
     "output_type": "execute_result"
    }
   ],
   "source": [
    "anthropic_client.count_tokens(document.pages[0].to_markdown())"
   ]
  },
  {
   "cell_type": "markdown",
   "id": "57f3357e-b7c5-43a3-b65c-ba40857ae080",
   "metadata": {},
   "source": [
    "## Use LLM to review and improve the extracted document\n",
    "\n",
    "Here we use Anthropic Claude 3 models through Amazon Bedrock to improve the markdown file extracted by Amazon Textract further, so it is ready for the LLM to answer question properly later on."
   ]
  },
  {
   "cell_type": "code",
   "execution_count": 22,
   "id": "25fe312e-660a-4787-8124-02b17dbc1e60",
   "metadata": {},
   "outputs": [],
   "source": [
    "import boto3\n",
    "import json\n",
    "import logging\n",
    "from botocore.exceptions import ClientError\n",
    "\n",
    "bedrock = boto3.client(\"bedrock\", region_name=\"us-west-2\")\n",
    "bedrock_runtime = boto3.client(\"bedrock-runtime\", region_name=\"us-west-2\")"
   ]
  },
  {
   "cell_type": "code",
   "execution_count": 23,
   "id": "9e94a2ff-be70-4786-a61f-f6622ddbde4c",
   "metadata": {},
   "outputs": [],
   "source": [
    "# bedrock.list_foundation_models()"
   ]
  },
  {
   "cell_type": "code",
   "execution_count": 24,
   "id": "2b33773e-5fb2-4411-90d1-5bfbc726b4fa",
   "metadata": {},
   "outputs": [],
   "source": [
    "# llm_model_id = \"anthropic.claude-3-haiku-20240307-v1:0\"\n",
    "llm_model_id = \"anthropic.claude-3-sonnet-20240229-v1:0\""
   ]
  },
  {
   "cell_type": "code",
   "execution_count": 25,
   "id": "f638ca66-f904-46c0-b72d-809154f9f4ab",
   "metadata": {},
   "outputs": [],
   "source": [
    "logger = logging.getLogger(__name__)\n",
    "logging.basicConfig(level=logging.INFO)\n",
    "\n",
    "\n",
    "def generate_message(bedrock_runtime, model_id, system_prompt, messages, max_tokens):\n",
    "\n",
    "    body=json.dumps(\n",
    "        {\n",
    "            \"anthropic_version\": \"bedrock-2023-05-31\",\n",
    "            \"max_tokens\": max_tokens,\n",
    "            \"system\": system_prompt,\n",
    "            \"messages\": messages\n",
    "        }\n",
    "    )\n",
    "    response = bedrock_runtime.invoke_model(body=body, modelId=model_id)\n",
    "    response_body = json.loads(response.get('body').read())\n",
    "\n",
    "    return response_body\n",
    "\n",
    "\n",
    "def call_llm(user_input, model_id, system_prompt, bedrock_runtime, max_tokens=1000):\n",
    "    \"\"\"Handle calls to Anthropic Claude message api.\"\"\"\n",
    "    try:\n",
    "        # Prompt with user turn only.\n",
    "        user_message =  {\"role\": \"user\", \"content\": user_input}\n",
    "        messages = [user_message]\n",
    "        return generate_message(bedrock_runtime, model_id, system_prompt, messages, max_tokens)\n",
    "    except ClientError as err:\n",
    "        message=err.response[\"Error\"][\"Message\"]\n",
    "        logger.error(\"A client error occurred: %s\", message)\n",
    "        print(\"A client error occured: \" +\n",
    "            format(message))\n",
    "\n"
   ]
  },
  {
   "cell_type": "markdown",
   "id": "cc681f37-82e9-4878-86cc-760122218b5f",
   "metadata": {},
   "source": [
    "Below we test the help functions by calling the LLM"
   ]
  },
  {
   "cell_type": "code",
   "execution_count": 26,
   "id": "5cae7812-d193-4e39-8a3e-a29884fef932",
   "metadata": {},
   "outputs": [
    {
     "name": "stdout",
     "output_type": "stream",
     "text": [
      "CPU times: user 16 ms, sys: 4.49 ms, total: 20.5 ms\n",
      "Wall time: 603 ms\n"
     ]
    },
    {
     "data": {
      "text/plain": [
       "{'id': 'msg_011efXny4sw5LZG8wEaapfuQ',\n",
       " 'type': 'message',\n",
       " 'role': 'assistant',\n",
       " 'content': [{'type': 'text', 'text': 'Hello! How can I assist you today?'}],\n",
       " 'model': 'claude-3-sonnet-28k-20240229',\n",
       " 'stop_reason': 'end_turn',\n",
       " 'stop_sequence': None,\n",
       " 'usage': {'input_tokens': 13, 'output_tokens': 12}}"
      ]
     },
     "execution_count": 26,
     "metadata": {},
     "output_type": "execute_result"
    }
   ],
   "source": [
    "%%time\n",
    "user_input = \"hello\"\n",
    "system_prompt = \"reply in a friendly manner\"\n",
    "\n",
    "call_llm(user_input, llm_model_id, system_prompt, bedrock_runtime, max_tokens=1000)"
   ]
  },
  {
   "cell_type": "code",
   "execution_count": 27,
   "id": "71d0306d-08fa-4b49-8ad3-05a0d97f0174",
   "metadata": {},
   "outputs": [],
   "source": [
    "user_prompt = \"\"\"\n",
    "Improve the markdown while keeping all original information. Put the improved markdown inside a <results> xml tags with no explanation:\n",
    "\\n{markdown_doc}\n",
    "\"\"\".strip()\n",
    "\n",
    "system_prompt = \"Your task is to review and improve the results of Amazon textract in markdown.\"\n",
    "\n",
    "\n",
    "def improve_textract_markdown_output(document, llm_model_id):\n",
    "    improved_markdown = []\n",
    "    for i in range(len(document.pages)):\n",
    "        user_input = user_prompt.format(markdown_doc=document.pages[i].to_markdown())\n",
    "        result = call_llm(user_input, llm_model_id, system_prompt, bedrock_runtime, max_tokens=3000)\n",
    "        # Extract the text between the <results> XML tags only.\n",
    "        improved_markdown.append(result[\"content\"][0][\"text\"].split(\"<results>\")[-1].split(\"</results>\")[0].strip())\n",
    "    return improved_markdown"
   ]
  },
  {
   "cell_type": "code",
   "execution_count": 28,
   "id": "ab6cea2e-2685-4dce-93ef-30a80636251f",
   "metadata": {},
   "outputs": [],
   "source": [
    "# res = improve_textract_markdown_output(document, llm_model_id)"
   ]
  },
  {
   "cell_type": "code",
   "execution_count": 29,
   "id": "c61b27b1-0fab-4456-801a-5ef7458d5629",
   "metadata": {},
   "outputs": [
    {
     "data": {
      "text/plain": [
       "'raw_documents/prepared/'"
      ]
     },
     "execution_count": 29,
     "metadata": {},
     "output_type": "execute_result"
    }
   ],
   "source": [
    "import os\n",
    "raw_base_directory = \"raw_documents\"\n",
    "prepared_base_directory = os.path.join(raw_base_directory, \"prepared/\")\n",
    "prepared_base_directory"
   ]
  },
  {
   "cell_type": "code",
   "execution_count": 30,
   "id": "da319b54-e2a4-4c63-8955-7b72d81298be",
   "metadata": {},
   "outputs": [],
   "source": [
    "import json\n",
    "\n",
    "with open(\n",
    "    os.path.join(prepared_base_directory, \"metadata.json\"), \"r\"\n",
    ") as prepared_pdfs_metadata_obj:\n",
    "    prepared_pdfs_metadata = json.load(prepared_pdfs_metadata_obj)\n"
   ]
  },
  {
   "cell_type": "code",
   "execution_count": 31,
   "id": "14f40cf8-d02b-4fbf-b334-dd0cf3754c23",
   "metadata": {},
   "outputs": [
    {
     "data": {
      "text/plain": [
       "[{'company': 'Amazon',\n",
       "  'year': '2022',\n",
       "  'doc_url': 'https://s2.q4cdn.com/299287126/files/doc_financials/2023/ar/Amazon-2022-Annual-Report.pdf',\n",
       "  'local_pdf_path': 'raw_documents/prepared/Amazon/annual_report_2022.pdf',\n",
       "  'pages_kept': [15, 17, 18, 47, 48]},\n",
       " {'company': 'Amazon',\n",
       "  'year': '2021',\n",
       "  'doc_url': 'https://s2.q4cdn.com/299287126/files/doc_financials/2022/ar/Amazon-2021-Annual-Report.pdf',\n",
       "  'local_pdf_path': 'raw_documents/prepared/Amazon/annual_report_2021.pdf',\n",
       "  'pages_kept': [14, 16, 17, 18, 46, 47]}]"
      ]
     },
     "execution_count": 31,
     "metadata": {},
     "output_type": "execute_result"
    }
   ],
   "source": [
    "prepared_pdfs_metadata"
   ]
  },
  {
   "cell_type": "code",
   "execution_count": 32,
   "id": "46f8e0ed-65fd-4a1d-9cba-ddb5846d6822",
   "metadata": {},
   "outputs": [],
   "source": [
    "def extract_pages_as_markdown(input_document):\n",
    "\n",
    "    document = extractor.start_document_analysis(\n",
    "        file_source=input_document,\n",
    "        s3_upload_path=f\"s3://{default_sagemaker_bucket}/input_documents/\",\n",
    "        s3_output_path=f\"s3://{default_sagemaker_bucket}/output_documents/\",\n",
    "        features=[TextractFeatures.LAYOUT],\n",
    "        save_image=False\n",
    "    )\n",
    "\n",
    "    res = improve_textract_markdown_output(document, llm_model_id)\n",
    "    pages = [{\"page\": indx, \"page_text\": text} for indx, text in enumerate(res)]\n",
    "    return pages\n",
    "\n",
    "\n",
    "def extract_docs_into_markdown(docs_metadata):\n",
    "    results = []\n",
    "    for doc_meta in docs_metadata:\n",
    "        doc_result_with_metadata = {}\n",
    "        doc_result_with_metadata[\"metadata\"] = doc_meta\n",
    "        doc_result_with_metadata[\"name\"] = doc_meta[\"doc_url\"].split(\"/\")[-1]\n",
    "        doc_result_with_metadata[\"source_location\"] = doc_meta[\"doc_url\"]\n",
    "        doc_result_with_metadata[\"pages\"] = extract_pages_as_markdown(doc_meta[\"local_pdf_path\"])\n",
    "        results.append(doc_result_with_metadata)\n",
    "    return results"
   ]
  },
  {
   "cell_type": "code",
   "execution_count": 33,
   "id": "e37c8a74-a33f-4d7f-8b0f-400d7c8984b1",
   "metadata": {},
   "outputs": [
    {
     "name": "stdout",
     "output_type": "stream",
     "text": [
      "CPU times: user 1.99 s, sys: 63.9 ms, total: 2.05 s\n",
      "Wall time: 4min 9s\n"
     ]
    }
   ],
   "source": [
    "%%time\n",
    "\n",
    "results = extract_docs_into_markdown(prepared_pdfs_metadata)"
   ]
  },
  {
   "cell_type": "code",
   "execution_count": 34,
   "id": "bc6f950d-af99-4859-b6dc-94e5d541de26",
   "metadata": {},
   "outputs": [
    {
     "data": {
      "text/plain": [
       "{'metadata': {'company': 'Amazon',\n",
       "  'year': '2022',\n",
       "  'doc_url': 'https://s2.q4cdn.com/299287126/files/doc_financials/2023/ar/Amazon-2022-Annual-Report.pdf',\n",
       "  'local_pdf_path': 'raw_documents/prepared/Amazon/annual_report_2022.pdf',\n",
       "  'pages_kept': [15, 17, 18, 47, 48]},\n",
       " 'name': 'Amazon-2022-Annual-Report.pdf',\n",
       " 'source_location': 'https://s2.q4cdn.com/299287126/files/doc_financials/2023/ar/Amazon-2022-Annual-Report.pdf',\n",
       " 'pages': [{'page': 0,\n",
       "   'page_text': \"## Competition\\n\\nOur businesses encompass a large variety of product types, service offerings, and delivery channels. The worldwide marketplace in which we compete is evolving rapidly and intensely competitive, and we face a broad array of competitors from many different industry sectors around the world. Our current and potential competitors include:\\n\\n1. Physical, e-commerce, and omnichannel retailers, publishers, vendors, distributors, manufacturers, and producers of the products we offer and sell to consumers and businesses.\\n2. Publishers, producers, and distributors of physical, digital, and interactive media of all types and all distribution channels.\\n3. Web search engines, comparison shopping websites, social networks, web portals, and other online and app-based means of discovering, using, or acquiring goods and services, either directly or in collaboration with other retailers.\\n4. Companies that provide e-commerce services, including website development and hosting, omnichannel sales, inventory and supply chain management, advertising, fulfillment, customer service, and payment processing.\\n5. Companies that provide fulfillment and logistics services for themselves or for third parties, whether online or offline.\\n6. Companies that provide information technology services or products, including on-premises or cloud-based infrastructure and other services.\\n7. Companies that design, manufacture, market, or sell consumer electronics, telecommunication, and electronic devices.\\n8. Companies that sell grocery products online and in physical stores.\\n9. Companies that provide advertising services, whether in digital or other formats.\\n\\nWe believe that the principal competitive factors in our retail businesses include selection, price, and convenience, including fast and reliable fulfillment. Additional competitive factors for our seller and enterprise services include the quality, speed, and reliability of our services and tools, as well as customers' ability and willingness to change business practices.\\n\\nSome of our current and potential competitors have greater resources, longer histories, more customers, greater brand recognition, and greater control over inputs critical to our various businesses. They may secure better terms from suppliers, adopt more aggressive pricing, pursue restrictive distribution agreements that restrict our access to supply, direct consumers to their own offerings instead of ours, lock-in potential customers with restrictive terms, and devote more resources to technology, infrastructure, fulfillment, and marketing.\\n\\nThe Internet facilitates competitive entry and comparison shopping, which enhances the ability of new, smaller, or lesser-known businesses to compete against us. Each of our businesses is also subject to rapid change and the development of new business models and the entry of new and well-funded competitors. Other companies also may enter into business combinations or alliances that strengthen their competitive positions.\\n\\n## Intellectual Property\\n\\nWe regard our trademarks, service marks, copyrights, patents, domain names, trade dress, trade secrets, proprietary technologies, and similar intellectual property as critical to our success, and we rely on trademark, copyright, and patent law, trade-secret protection, and confidentiality and/or license agreements with our employees, customers, partners, and others to protect our proprietary rights. We have registered, or applied for the registration of, a number of U.S. and international domain names, trademarks, service marks, and copyrights. Additionally, we have filed U.S. and international patent applications covering certain of our proprietary technology.\\n\\n## Seasonality\\n\\nOur business is affected by seasonality, which historically has resulted in higher sales volume during our fourth quarter, which ends December 31.\\n\\n## Human Capital\\n\\nOur employees are critical to our mission of being Earth's most customer-centric company. As of December 31, 2022, we employed approximately 1,541,000 full-time and part-time employees. Additionally, we use independent contractors and temporary personnel to supplement our workforce. Competition for qualified personnel is intense, particularly for software engineers, computer scientists, and other technical staff, and constrained labor markets have increased competition for personnel across other parts of our business.\\n\\nAs we strive to be Earth's best employer, we focus on investment and innovation, inclusion and diversity, safety, and engagement to hire and develop the best talent. We rely on numerous and evolving initiatives to implement these objectives and invent mechanisms for talent development, including competitive pay and benefits, flexible work arrangements, and skills training and educational programs such as Amazon Career Choice (funded education for hourly employees) and the Amazon Technical Academy (software development engineer training). Over 100,000 Amazon employees around the world have participated in Career Choice. We also continue to inspect and refine the mechanisms we use to hire, develop, evaluate, and retain our employees to promote equity for all candidates and employees.\\n\\nIn addition, safety is integral to everything we do at Amazon, and we continue to invest in safety improvements such as capital improvements, new safety technology, vehicle safety controls, and engineering ergonomic solutions. Our safety team is dedicated to using the science of safety to solve complex problems and establish new industry best practices. We also provide mentorship and support resources to our employees, and have deployed numerous programs that advance employee engagement, communication, and feedback.\"},\n",
       "  {'page': 1,\n",
       "   'page_text': '## Board of Directors\\n\\n| Name                     | Age | Position                                                       |\\n|--------------------------|-----|----------------------------------------------------------------|\\n| Jeffrey P. Bezos         | 59  | Executive Chair                                                |\\n| Andrew R. Jassy          | 55  | President and Chief Executive Officer                          |\\n| Keith B. Alexander       | 71  | CEO, President, and Chair of IronNet, Inc.                    |\\n| Edith W. Cooper          | 61  | Former Executive Vice President, Goldman Sachs Group, Inc.    |\\n| Jamie S. Gorelick        | 72  | Partner, Wilmer Cutler Pickering Hale and Dorr LLP            |\\n| Daniel P. Huttenlocher   | 64  | Dean, MIT Schwarzman College of Computing                      |\\n| Judith A. McGrath        | 70  | Former Chair and CEO, MTV Networks                             |\\n| Indra K. Nooyi           | 67  | Former Chief Executive Officer, PepsiCo, Inc.                 |\\n| Jonathan J. Rubinstein   | 66  | Former co-CEO, Bridgewater Associates, LP                      |\\n| Patricia Q. Stonesifer   | 66  | Former President and Chief Executive Officer, Martha\\'s Table  |\\n| Wendell P. Weeks         | 63  | Chief Executive Officer, Corning Incorporated                  |\\n\\n## Item 1A. Risk Factors\\n\\nPlease carefully consider the following discussion of significant factors, events, and uncertainties that make an investment in our securities risky. The events and consequences discussed in these risk factors could, in circumstances we may or may not be able to accurately predict, recognize, or control, have a material adverse effect on our business, growth, reputation, prospects, financial condition, operating results (including components of our financial results), cash flows, liquidity, and stock price. These risk factors do not identify all risks that we face; our operations could also be affected by factors, events, or uncertainties that are not presently known to us or that we currently do not consider to present significant risks to our operations. In addition to the factors discussed in Item 7 of Part II, \"Management\\'s Discussion and Analysis of Financial Condition and Results of Operations-Overview,\" and in the risk factors below, global economic and geopolitical conditions and additional or unforeseen circumstances, developments, or events may give rise to or amplify many of the risks discussed below. Many of the risks discussed below also impact our customers, including third-party sellers, which could indirectly have a material adverse effect on us.\\n\\n### Business and Industry Risks\\n\\n#### We Face Intense Competition\\n\\nOur businesses are rapidly evolving and intensely competitive, and we have many competitors across geographies, including cross-border competition, and in different industries, including physical, e-commerce, and omnichannel retail, e-commerce services, web and infrastructure computing services, electronic devices, digital content, advertising, grocery, and transportation and logistics services. Some of our current and potential competitors have greater resources, longer histories, more customers, and/or greater brand recognition, particularly with our newly-launched products and services and in our newer geographic regions. They may secure better terms from vendors, adopt more aggressive pricing, and devote more resources to technology, infrastructure, fulfillment, and marketing.\\n\\nCompetition continues to intensify, including with the development of new business models and the entry of new and well-funded competitors, and as our competitors enter into business combinations or alliances and established companies in other market segments expand to become competitive with our business. In addition, new and enhanced technologies, including search, web and infrastructure computing services, digital content, and electronic devices continue to increase our competition. The Internet facilitates competitive entry and comparison shopping, which enhances the ability of new, smaller, or lesser known businesses to compete against us. As a result of competition, our product and service offerings may not be successful, we may fail to gain or may lose business, and we may be required to increase our spending or lower prices, any of which could materially reduce our sales and profits.\\n\\n#### Our Expansion into New Products, Services, Technologies, and Geographic Regions Subjects Us to Additional Risks\\n\\nWe may have limited or no experience in our newer market segments, and our customers may not adopt our product or service offerings. These offerings, which can present new and difficult technology challenges, may subject us to claims if customers of these offerings experience, or are otherwise impacted by, service disruptions, delays, setbacks, or failures or quality issues. In addition, profitability, if any, in our newer activities may not meet our expectations, and we may not be successful enough in these newer activities to recoup our investments in them, which investments are often significant. Failure to realize the benefits of amounts we invest in new technologies, products, or services could result in the value of those investments being written down or written off. In addition, our sustainability initiatives may be unsuccessful for a variety of reasons.'},\n",
       "  {'page': 2,\n",
       "   'page_text': '## Reasons, Including if We Are Unable to Realize the Expected Benefits of New Technologies or if We Do Not Successfully Plan or Execute New Strategies, Which Could Harm Our Business or Damage Our Reputation\\n\\n## Our International Operations Expose Us to a Number of Risks\\n\\nOur international activities are significant to our revenues and profits, and we plan to further expand internationally. In certain international market segments, we have relatively little operating experience and may not benefit from any first-to-market advantages or otherwise succeed. It is costly to establish, develop, and maintain international operations and stores, and promote our brand internationally. Our international operations may not become profitable on a sustained basis.\\n\\nIn addition to risks described elsewhere in this section, our international sales and operations are subject to a number of risks, including:\\n\\n- local economic and political conditions;\\n- government regulation (such as regulation of our product and service offerings and of competition);\\n- restrictive governmental actions (such as trade protection measures, including export duties and quotas and custom duties and tariffs);\\n- nationalization; and restrictions on foreign ownership;\\n- restrictions on sales or distribution of certain products or services and uncertainty regarding liability for products, services, and content, including uncertainty as a result of less Internet-friendly legal systems, local laws, lack of legal precedent, and varying rules, regulations, and practices regarding the physical and digital distribution of media products and enforcement of intellectual property rights;\\n- business licensing or certification requirements, such as for imports, exports, web services, and electronic devices;\\n- limitations on the repatriation and investment of funds and foreign currency exchange restrictions;\\n- limited fulfillment and technology infrastructure;\\n- shorter payable and longer receivable cycles and the resultant negative impact on cash flow;\\n- laws and regulations regarding privacy, data use, data protection, data security, data localization, network security, consumer protection, payments, advertising, and restrictions on pricing or discounts;\\n- lower levels of use of the Internet;\\n- lower levels of consumer spending and fewer opportunities for growth compared to the U.S.;\\n- lower levels of credit card usage and increased payment risk;\\n- difficulty in staffing, developing, and managing foreign operations as a result of distance, language, and cultural differences;\\n- different employee/employer relationships and the existence of works councils and labor unions;\\n- compliance with the U.S. Foreign Corrupt Practices Act and other applicable U.S. and foreign laws prohibiting corrupt payments to government officials and other third parties;\\n- laws and policies of the U.S. and other jurisdictions affecting trade, foreign investment, loans, and taxes; and\\n- geopolitical events, including war and terrorism.\\n\\nAs international physical, e-commerce, and omnichannel retail, cloud services, and other services grow, competition will intensify, including through adoption of evolving business models. Local companies may have a substantial competitive advantage because of their greater understanding of, and focus on, the local customer, as well as their more established local brand names. The inability to hire, train, retain, and manage sufficient required personnel may limit our international growth.\\n\\nThe People\\'s Republic of China (\"PRC\") and India regulate Amazon\\'s and its affiliates\\' businesses and operations in country through regulations and license requirements that may restrict (i) foreign investment in and operation of the Internet, IT infrastructure, data centers, retail, delivery, and other sectors, (ii) Internet content, and (iii) the sale of media and other products and services. For example, in order to meet local ownership, regulatory licensing, and cybersecurity requirements, we provide certain technology services in China through contractual relationships with third parties that hold PRC licenses to provide services. In India, the government restricts the ownership or control of Indian companies by foreign entities involved in online multi-brand retail trading activities. For www.amazon.in, we provide certain marketing tools and logistics services to third-party sellers to enable them to sell online and deliver to customers, and we hold indirect minority interests in entities that are third-party sellers on the www.amazon.in marketplace. Although we believe these structures and activities comply with existing laws, they involve unique risks, and the PRC and India may from time to time consider and implement additional changes in their regulatory, licensing, or other requirements that could impact these structures and activities. There are substantial uncertainties regarding the interpretation of PRC and Indian laws and regulations, and it is possible that these governments will ultimately take a view contrary to ours.'},\n",
       "  {'page': 3,\n",
       "   'page_text': '# AMAZON.COM, INC.\\n\\n## CONSOLIDATED STATEMENTS OF CASH FLOWS\\n(in millions)\\n\\n| | Year Ended December 31, |  |  |\\n| --- | --- | --- | --- |\\n| | 2020 | 2021 | 2022 |\\n| **CASH, CASH EQUIVALENTS, AND RESTRICTED CASH, BEGINNING OF PERIOD** | $36,410 | $42,377 | $36,477 |\\n| **OPERATING ACTIVITIES:** |  |  |  |\\n| Net income (loss) | 21,331 | 33,364 | (2,722) |\\n| Adjustments to reconcile net income (loss) to net cash from operating activities: |  |  |  |\\n| Depreciation and amortization of property and equipment and capitalized content costs, operating lease assets, and other | 25,180 | 34,433 | 41,921 |\\n| Stock-based compensation | 9,208 | 12,757 | 19,621 |\\n| Other expense (income), net | (2,582) | (14,306) | 16,966 |\\n| Deferred income taxes | (554) | (310) | (8,148) |\\n| Changes in operating assets and liabilities: |  |  |  |\\n| Inventories | (2,849) | (9,487) | (2,592) |\\n| Accounts receivable, net and other | (8,169) | (18,163) | (21,897) |\\n| Accounts payable | 17,480 | 3,602 | 2,945 |\\n| Accrued expenses and other | 5,754 | 2,123 | (1,558) |\\n| Unearned revenue | 1,265 | 2,314 | 2,216 |\\n| **Net cash provided by (used in) operating activities** | 66,064 | 46,327 | 46,752 |\\n| **INVESTING ACTIVITIES:** |  |  |  |\\n| Purchases of property and equipment | (40,140) | (61,053) | (63,645) |\\n| Proceeds from property and equipment sales and incentives | 5,096 | 5,657 | 5,324 |\\n| Acquisitions, net of cash acquired, and other | (2,325) | (1,985) | (8,316) |\\n| Sales and maturities of marketable securities | 50,237 | 59,384 | 31,601 |\\n| Purchases of marketable securities | (72,479) | (60,157) | (2,565) |\\n| **Net cash provided by (used in) investing activities** | (59,611) | (58,154) | (37,601) |\\n| **FINANCING ACTIVITIES:** |  |  |  |\\n| Common stock repurchased | - | - | (6,000) |\\n| Proceeds from short-term debt, and other | 6,796 | 7,956 | 41,553 |\\n| Repayments of short-term debt, and other | (6,177) | (7,753) | (37,554) |\\n| Proceeds from long-term debt | 10,525 | 19,003 | 21,166 |\\n| Repayments of long-term debt | (1,553) | (1,590) | (1,258) |\\n| Principal repayments of finance leases | (10,642) | (11,163) | (7,941) |\\n| Principal repayments of financing obligations | (53) | (162) | (248) |\\n| **Net cash provided by (used in) financing activities** | (1,104) | 6,291 | 9,718 |\\n| Foreign currency effect on cash, cash equivalents, and restricted cash | 618 | (364) | (1,093) |\\n| **Net increase (decrease) in cash, cash equivalents, and restricted cash** | 5,967 | (5,900) | 17,776 |\\n| **CASH, CASH EQUIVALENTS, AND RESTRICTED CASH, END OF PERIOD** | $42,377 | $36,477 | $54,253 |\\n\\nSee accompanying notes to consolidated financial statements.\\n\\n36'},\n",
       "  {'page': 4,\n",
       "   'page_text': '# AMAZON.COM, INC.\\n\\n## CONSOLIDATED STATEMENTS OF OPERATIONS\\n\\n(in millions, except per share data)\\n\\n| Year Ended December 31, | 2020 | 2021 | 2022 |\\n| --- | --- | --- | --- |\\n| Net product sales | $215,915 | $241,787 | $242,901 |\\n| Net service sales | $170,149 | $228,035 | $271,082 |\\n| Total net sales | $386,064 | $469,822 | $513,983 |\\n| **Operating expenses:** | | | |\\n| Cost of sales | $233,307 | $272,344 | $288,831 |\\n| Fulfillment | $58,517 | $75,111 | $84,299 |\\n| Technology and content | $42,740 | $56,052 | $73,213 |\\n| Sales and marketing | $22,008 | $32,551 | $42,238 |\\n| General and administrative | $6,668 | $8,823 | $11,891 |\\n| Other operating expense (income), net | ($75) | $62 | $1,263 |\\n| Total operating expenses | $363,165 | $444,943 | $501,735 |\\n| Operating income | $22,899 | $24,879 | $12,248 |\\n| Interest income | $555 | $448 | $989 |\\n| Interest expense | ($1,647) | ($1,809) | ($2,367) |\\n| Other income (expense), net | $2,371 | $14,633 | ($16,806) |\\n| Total non-operating income (expense) | $1,279 | $13,272 | ($18,184) |\\n| Income (loss) before income taxes | $24,178 | $38,151 | ($5,936) |\\n| Benefit (provision) for income taxes | ($2,863) | ($4,791) | $3,217 |\\n| Equity-method investment activity, net of tax | $16 | $4 | ($3) |\\n| Net income (loss) | $21,331 | $33,364 | ($2,722) |\\n| Basic earnings per share | $2.13 | $3.30 | ($0.27) |\\n| Diluted earnings per share | $2.09 | $3.24 | ($0.27) |\\n| **Weighted-average shares used in computation of earnings per share:** | | | |\\n| Basic | 10,005 | 10,117 | 10,189 |\\n| Diluted | 10,198 | 10,296 | 10,189 |\\n\\nSee accompanying notes to consolidated financial statements.\\n\\n37'}]}"
      ]
     },
     "execution_count": 34,
     "metadata": {},
     "output_type": "execute_result"
    }
   ],
   "source": [
    "results[0]"
   ]
  },
  {
   "cell_type": "code",
   "execution_count": 35,
   "id": "1199a24c-13db-4742-a95a-96290481d371",
   "metadata": {},
   "outputs": [],
   "source": [
    "from utils.helpers import store_list_to_s3"
   ]
  },
  {
   "cell_type": "code",
   "execution_count": 36,
   "id": "29e061f8-b57f-4150-83ce-dd39568cdbd8",
   "metadata": {},
   "outputs": [],
   "source": [
    "ssm = boto3.client(\"ssm\")"
   ]
  },
  {
   "cell_type": "code",
   "execution_count": 37,
   "id": "2c66762e-514c-422d-a4f9-cb851af9892e",
   "metadata": {},
   "outputs": [],
   "source": [
    "s3_bucket_name_parameter = \"/AgenticLLMAssistantWorkshop/AgentDataBucketParameter\""
   ]
  },
  {
   "cell_type": "code",
   "execution_count": null,
   "id": "b0c770fa-9dba-4802-96d2-101d383b0674",
   "metadata": {},
   "outputs": [],
   "source": []
  },
  {
   "cell_type": "code",
   "execution_count": null,
   "id": "b687da66-173a-4ddf-a4dc-9065fa414b9d",
   "metadata": {},
   "outputs": [],
   "source": []
  },
  {
   "cell_type": "code",
   "execution_count": null,
   "id": "bb948c75-bc9a-4b9d-875e-0d5dfca86e82",
   "metadata": {},
   "outputs": [],
   "source": []
  },
  {
   "cell_type": "code",
   "execution_count": 38,
   "id": "2245c6a7-1335-49c3-ab2f-cea1cbeb7b14",
   "metadata": {},
   "outputs": [],
   "source": [
    "s3_bucket_name = ssm.get_parameter(Name=s3_bucket_name_parameter)\n",
    "s3_bucket_name = s3_bucket_name[\"Parameter\"][\"Value\"]"
   ]
  },
  {
   "cell_type": "code",
   "execution_count": 39,
   "id": "c63a38cf-fbc1-4f29-97c5-3cf73af479a6",
   "metadata": {},
   "outputs": [],
   "source": [
    "processed_documents_s3_key = \"documents_processed.json\""
   ]
  },
  {
   "cell_type": "code",
   "execution_count": 40,
   "id": "1b6cc0b7-0abe-4f49-9282-ccce09fd70e8",
   "metadata": {},
   "outputs": [],
   "source": [
    "store_list_to_s3(s3_bucket_name, processed_documents_s3_key, results)"
   ]
  },
  {
   "cell_type": "code",
   "execution_count": 41,
   "id": "e40e3a7d-8b47-4b79-94eb-7e9c08624322",
   "metadata": {
    "tags": []
   },
   "outputs": [
    {
     "data": {
      "text/plain": [
       "{'metadata': {'company': 'Amazon',\n",
       "  'year': '2022',\n",
       "  'doc_url': 'https://s2.q4cdn.com/299287126/files/doc_financials/2023/ar/Amazon-2022-Annual-Report.pdf',\n",
       "  'local_pdf_path': 'raw_documents/prepared/Amazon/annual_report_2022.pdf',\n",
       "  'pages_kept': [15, 17, 18, 47, 48]},\n",
       " 'name': 'Amazon-2022-Annual-Report.pdf',\n",
       " 'source_location': 'https://s2.q4cdn.com/299287126/files/doc_financials/2023/ar/Amazon-2022-Annual-Report.pdf',\n",
       " 'pages': [{'page': 0,\n",
       "   'page_text': \"## Competition\\n\\nOur businesses encompass a large variety of product types, service offerings, and delivery channels. The worldwide marketplace in which we compete is evolving rapidly and intensely competitive, and we face a broad array of competitors from many different industry sectors around the world. Our current and potential competitors include:\\n\\n1. Physical, e-commerce, and omnichannel retailers, publishers, vendors, distributors, manufacturers, and producers of the products we offer and sell to consumers and businesses.\\n2. Publishers, producers, and distributors of physical, digital, and interactive media of all types and all distribution channels.\\n3. Web search engines, comparison shopping websites, social networks, web portals, and other online and app-based means of discovering, using, or acquiring goods and services, either directly or in collaboration with other retailers.\\n4. Companies that provide e-commerce services, including website development and hosting, omnichannel sales, inventory and supply chain management, advertising, fulfillment, customer service, and payment processing.\\n5. Companies that provide fulfillment and logistics services for themselves or for third parties, whether online or offline.\\n6. Companies that provide information technology services or products, including on-premises or cloud-based infrastructure and other services.\\n7. Companies that design, manufacture, market, or sell consumer electronics, telecommunication, and electronic devices.\\n8. Companies that sell grocery products online and in physical stores.\\n9. Companies that provide advertising services, whether in digital or other formats.\\n\\nWe believe that the principal competitive factors in our retail businesses include selection, price, and convenience, including fast and reliable fulfillment. Additional competitive factors for our seller and enterprise services include the quality, speed, and reliability of our services and tools, as well as customers' ability and willingness to change business practices.\\n\\nSome of our current and potential competitors have greater resources, longer histories, more customers, greater brand recognition, and greater control over inputs critical to our various businesses. They may secure better terms from suppliers, adopt more aggressive pricing, pursue restrictive distribution agreements that restrict our access to supply, direct consumers to their own offerings instead of ours, lock-in potential customers with restrictive terms, and devote more resources to technology, infrastructure, fulfillment, and marketing.\\n\\nThe Internet facilitates competitive entry and comparison shopping, which enhances the ability of new, smaller, or lesser-known businesses to compete against us. Each of our businesses is also subject to rapid change and the development of new business models and the entry of new and well-funded competitors. Other companies also may enter into business combinations or alliances that strengthen their competitive positions.\\n\\n## Intellectual Property\\n\\nWe regard our trademarks, service marks, copyrights, patents, domain names, trade dress, trade secrets, proprietary technologies, and similar intellectual property as critical to our success, and we rely on trademark, copyright, and patent law, trade-secret protection, and confidentiality and/or license agreements with our employees, customers, partners, and others to protect our proprietary rights. We have registered, or applied for the registration of, a number of U.S. and international domain names, trademarks, service marks, and copyrights. Additionally, we have filed U.S. and international patent applications covering certain of our proprietary technology.\\n\\n## Seasonality\\n\\nOur business is affected by seasonality, which historically has resulted in higher sales volume during our fourth quarter, which ends December 31.\\n\\n## Human Capital\\n\\nOur employees are critical to our mission of being Earth's most customer-centric company. As of December 31, 2022, we employed approximately 1,541,000 full-time and part-time employees. Additionally, we use independent contractors and temporary personnel to supplement our workforce. Competition for qualified personnel is intense, particularly for software engineers, computer scientists, and other technical staff, and constrained labor markets have increased competition for personnel across other parts of our business.\\n\\nAs we strive to be Earth's best employer, we focus on investment and innovation, inclusion and diversity, safety, and engagement to hire and develop the best talent. We rely on numerous and evolving initiatives to implement these objectives and invent mechanisms for talent development, including competitive pay and benefits, flexible work arrangements, and skills training and educational programs such as Amazon Career Choice (funded education for hourly employees) and the Amazon Technical Academy (software development engineer training). Over 100,000 Amazon employees around the world have participated in Career Choice. We also continue to inspect and refine the mechanisms we use to hire, develop, evaluate, and retain our employees to promote equity for all candidates and employees.\\n\\nIn addition, safety is integral to everything we do at Amazon, and we continue to invest in safety improvements such as capital improvements, new safety technology, vehicle safety controls, and engineering ergonomic solutions. Our safety team is dedicated to using the science of safety to solve complex problems and establish new industry best practices. We also provide mentorship and support resources to our employees, and have deployed numerous programs that advance employee engagement, communication, and feedback.\"},\n",
       "  {'page': 1,\n",
       "   'page_text': '## Board of Directors\\n\\n| Name                     | Age | Position                                                       |\\n|--------------------------|-----|----------------------------------------------------------------|\\n| Jeffrey P. Bezos         | 59  | Executive Chair                                                |\\n| Andrew R. Jassy          | 55  | President and Chief Executive Officer                          |\\n| Keith B. Alexander       | 71  | CEO, President, and Chair of IronNet, Inc.                    |\\n| Edith W. Cooper          | 61  | Former Executive Vice President, Goldman Sachs Group, Inc.    |\\n| Jamie S. Gorelick        | 72  | Partner, Wilmer Cutler Pickering Hale and Dorr LLP            |\\n| Daniel P. Huttenlocher   | 64  | Dean, MIT Schwarzman College of Computing                      |\\n| Judith A. McGrath        | 70  | Former Chair and CEO, MTV Networks                             |\\n| Indra K. Nooyi           | 67  | Former Chief Executive Officer, PepsiCo, Inc.                 |\\n| Jonathan J. Rubinstein   | 66  | Former co-CEO, Bridgewater Associates, LP                      |\\n| Patricia Q. Stonesifer   | 66  | Former President and Chief Executive Officer, Martha\\'s Table  |\\n| Wendell P. Weeks         | 63  | Chief Executive Officer, Corning Incorporated                  |\\n\\n## Item 1A. Risk Factors\\n\\nPlease carefully consider the following discussion of significant factors, events, and uncertainties that make an investment in our securities risky. The events and consequences discussed in these risk factors could, in circumstances we may or may not be able to accurately predict, recognize, or control, have a material adverse effect on our business, growth, reputation, prospects, financial condition, operating results (including components of our financial results), cash flows, liquidity, and stock price. These risk factors do not identify all risks that we face; our operations could also be affected by factors, events, or uncertainties that are not presently known to us or that we currently do not consider to present significant risks to our operations. In addition to the factors discussed in Item 7 of Part II, \"Management\\'s Discussion and Analysis of Financial Condition and Results of Operations-Overview,\" and in the risk factors below, global economic and geopolitical conditions and additional or unforeseen circumstances, developments, or events may give rise to or amplify many of the risks discussed below. Many of the risks discussed below also impact our customers, including third-party sellers, which could indirectly have a material adverse effect on us.\\n\\n### Business and Industry Risks\\n\\n#### We Face Intense Competition\\n\\nOur businesses are rapidly evolving and intensely competitive, and we have many competitors across geographies, including cross-border competition, and in different industries, including physical, e-commerce, and omnichannel retail, e-commerce services, web and infrastructure computing services, electronic devices, digital content, advertising, grocery, and transportation and logistics services. Some of our current and potential competitors have greater resources, longer histories, more customers, and/or greater brand recognition, particularly with our newly-launched products and services and in our newer geographic regions. They may secure better terms from vendors, adopt more aggressive pricing, and devote more resources to technology, infrastructure, fulfillment, and marketing.\\n\\nCompetition continues to intensify, including with the development of new business models and the entry of new and well-funded competitors, and as our competitors enter into business combinations or alliances and established companies in other market segments expand to become competitive with our business. In addition, new and enhanced technologies, including search, web and infrastructure computing services, digital content, and electronic devices continue to increase our competition. The Internet facilitates competitive entry and comparison shopping, which enhances the ability of new, smaller, or lesser known businesses to compete against us. As a result of competition, our product and service offerings may not be successful, we may fail to gain or may lose business, and we may be required to increase our spending or lower prices, any of which could materially reduce our sales and profits.\\n\\n#### Our Expansion into New Products, Services, Technologies, and Geographic Regions Subjects Us to Additional Risks\\n\\nWe may have limited or no experience in our newer market segments, and our customers may not adopt our product or service offerings. These offerings, which can present new and difficult technology challenges, may subject us to claims if customers of these offerings experience, or are otherwise impacted by, service disruptions, delays, setbacks, or failures or quality issues. In addition, profitability, if any, in our newer activities may not meet our expectations, and we may not be successful enough in these newer activities to recoup our investments in them, which investments are often significant. Failure to realize the benefits of amounts we invest in new technologies, products, or services could result in the value of those investments being written down or written off. In addition, our sustainability initiatives may be unsuccessful for a variety of reasons.'},\n",
       "  {'page': 2,\n",
       "   'page_text': '## Reasons, Including if We Are Unable to Realize the Expected Benefits of New Technologies or if We Do Not Successfully Plan or Execute New Strategies, Which Could Harm Our Business or Damage Our Reputation\\n\\n## Our International Operations Expose Us to a Number of Risks\\n\\nOur international activities are significant to our revenues and profits, and we plan to further expand internationally. In certain international market segments, we have relatively little operating experience and may not benefit from any first-to-market advantages or otherwise succeed. It is costly to establish, develop, and maintain international operations and stores, and promote our brand internationally. Our international operations may not become profitable on a sustained basis.\\n\\nIn addition to risks described elsewhere in this section, our international sales and operations are subject to a number of risks, including:\\n\\n- local economic and political conditions;\\n- government regulation (such as regulation of our product and service offerings and of competition);\\n- restrictive governmental actions (such as trade protection measures, including export duties and quotas and custom duties and tariffs);\\n- nationalization; and restrictions on foreign ownership;\\n- restrictions on sales or distribution of certain products or services and uncertainty regarding liability for products, services, and content, including uncertainty as a result of less Internet-friendly legal systems, local laws, lack of legal precedent, and varying rules, regulations, and practices regarding the physical and digital distribution of media products and enforcement of intellectual property rights;\\n- business licensing or certification requirements, such as for imports, exports, web services, and electronic devices;\\n- limitations on the repatriation and investment of funds and foreign currency exchange restrictions;\\n- limited fulfillment and technology infrastructure;\\n- shorter payable and longer receivable cycles and the resultant negative impact on cash flow;\\n- laws and regulations regarding privacy, data use, data protection, data security, data localization, network security, consumer protection, payments, advertising, and restrictions on pricing or discounts;\\n- lower levels of use of the Internet;\\n- lower levels of consumer spending and fewer opportunities for growth compared to the U.S.;\\n- lower levels of credit card usage and increased payment risk;\\n- difficulty in staffing, developing, and managing foreign operations as a result of distance, language, and cultural differences;\\n- different employee/employer relationships and the existence of works councils and labor unions;\\n- compliance with the U.S. Foreign Corrupt Practices Act and other applicable U.S. and foreign laws prohibiting corrupt payments to government officials and other third parties;\\n- laws and policies of the U.S. and other jurisdictions affecting trade, foreign investment, loans, and taxes; and\\n- geopolitical events, including war and terrorism.\\n\\nAs international physical, e-commerce, and omnichannel retail, cloud services, and other services grow, competition will intensify, including through adoption of evolving business models. Local companies may have a substantial competitive advantage because of their greater understanding of, and focus on, the local customer, as well as their more established local brand names. The inability to hire, train, retain, and manage sufficient required personnel may limit our international growth.\\n\\nThe People\\'s Republic of China (\"PRC\") and India regulate Amazon\\'s and its affiliates\\' businesses and operations in country through regulations and license requirements that may restrict (i) foreign investment in and operation of the Internet, IT infrastructure, data centers, retail, delivery, and other sectors, (ii) Internet content, and (iii) the sale of media and other products and services. For example, in order to meet local ownership, regulatory licensing, and cybersecurity requirements, we provide certain technology services in China through contractual relationships with third parties that hold PRC licenses to provide services. In India, the government restricts the ownership or control of Indian companies by foreign entities involved in online multi-brand retail trading activities. For www.amazon.in, we provide certain marketing tools and logistics services to third-party sellers to enable them to sell online and deliver to customers, and we hold indirect minority interests in entities that are third-party sellers on the www.amazon.in marketplace. Although we believe these structures and activities comply with existing laws, they involve unique risks, and the PRC and India may from time to time consider and implement additional changes in their regulatory, licensing, or other requirements that could impact these structures and activities. There are substantial uncertainties regarding the interpretation of PRC and Indian laws and regulations, and it is possible that these governments will ultimately take a view contrary to ours.'},\n",
       "  {'page': 3,\n",
       "   'page_text': '# AMAZON.COM, INC.\\n\\n## CONSOLIDATED STATEMENTS OF CASH FLOWS\\n(in millions)\\n\\n| | Year Ended December 31, |  |  |\\n| --- | --- | --- | --- |\\n| | 2020 | 2021 | 2022 |\\n| **CASH, CASH EQUIVALENTS, AND RESTRICTED CASH, BEGINNING OF PERIOD** | $36,410 | $42,377 | $36,477 |\\n| **OPERATING ACTIVITIES:** |  |  |  |\\n| Net income (loss) | 21,331 | 33,364 | (2,722) |\\n| Adjustments to reconcile net income (loss) to net cash from operating activities: |  |  |  |\\n| Depreciation and amortization of property and equipment and capitalized content costs, operating lease assets, and other | 25,180 | 34,433 | 41,921 |\\n| Stock-based compensation | 9,208 | 12,757 | 19,621 |\\n| Other expense (income), net | (2,582) | (14,306) | 16,966 |\\n| Deferred income taxes | (554) | (310) | (8,148) |\\n| Changes in operating assets and liabilities: |  |  |  |\\n| Inventories | (2,849) | (9,487) | (2,592) |\\n| Accounts receivable, net and other | (8,169) | (18,163) | (21,897) |\\n| Accounts payable | 17,480 | 3,602 | 2,945 |\\n| Accrued expenses and other | 5,754 | 2,123 | (1,558) |\\n| Unearned revenue | 1,265 | 2,314 | 2,216 |\\n| **Net cash provided by (used in) operating activities** | 66,064 | 46,327 | 46,752 |\\n| **INVESTING ACTIVITIES:** |  |  |  |\\n| Purchases of property and equipment | (40,140) | (61,053) | (63,645) |\\n| Proceeds from property and equipment sales and incentives | 5,096 | 5,657 | 5,324 |\\n| Acquisitions, net of cash acquired, and other | (2,325) | (1,985) | (8,316) |\\n| Sales and maturities of marketable securities | 50,237 | 59,384 | 31,601 |\\n| Purchases of marketable securities | (72,479) | (60,157) | (2,565) |\\n| **Net cash provided by (used in) investing activities** | (59,611) | (58,154) | (37,601) |\\n| **FINANCING ACTIVITIES:** |  |  |  |\\n| Common stock repurchased | - | - | (6,000) |\\n| Proceeds from short-term debt, and other | 6,796 | 7,956 | 41,553 |\\n| Repayments of short-term debt, and other | (6,177) | (7,753) | (37,554) |\\n| Proceeds from long-term debt | 10,525 | 19,003 | 21,166 |\\n| Repayments of long-term debt | (1,553) | (1,590) | (1,258) |\\n| Principal repayments of finance leases | (10,642) | (11,163) | (7,941) |\\n| Principal repayments of financing obligations | (53) | (162) | (248) |\\n| **Net cash provided by (used in) financing activities** | (1,104) | 6,291 | 9,718 |\\n| Foreign currency effect on cash, cash equivalents, and restricted cash | 618 | (364) | (1,093) |\\n| **Net increase (decrease) in cash, cash equivalents, and restricted cash** | 5,967 | (5,900) | 17,776 |\\n| **CASH, CASH EQUIVALENTS, AND RESTRICTED CASH, END OF PERIOD** | $42,377 | $36,477 | $54,253 |\\n\\nSee accompanying notes to consolidated financial statements.\\n\\n36'},\n",
       "  {'page': 4,\n",
       "   'page_text': '# AMAZON.COM, INC.\\n\\n## CONSOLIDATED STATEMENTS OF OPERATIONS\\n\\n(in millions, except per share data)\\n\\n| Year Ended December 31, | 2020 | 2021 | 2022 |\\n| --- | --- | --- | --- |\\n| Net product sales | $215,915 | $241,787 | $242,901 |\\n| Net service sales | $170,149 | $228,035 | $271,082 |\\n| Total net sales | $386,064 | $469,822 | $513,983 |\\n| **Operating expenses:** | | | |\\n| Cost of sales | $233,307 | $272,344 | $288,831 |\\n| Fulfillment | $58,517 | $75,111 | $84,299 |\\n| Technology and content | $42,740 | $56,052 | $73,213 |\\n| Sales and marketing | $22,008 | $32,551 | $42,238 |\\n| General and administrative | $6,668 | $8,823 | $11,891 |\\n| Other operating expense (income), net | ($75) | $62 | $1,263 |\\n| Total operating expenses | $363,165 | $444,943 | $501,735 |\\n| Operating income | $22,899 | $24,879 | $12,248 |\\n| Interest income | $555 | $448 | $989 |\\n| Interest expense | ($1,647) | ($1,809) | ($2,367) |\\n| Other income (expense), net | $2,371 | $14,633 | ($16,806) |\\n| Total non-operating income (expense) | $1,279 | $13,272 | ($18,184) |\\n| Income (loss) before income taxes | $24,178 | $38,151 | ($5,936) |\\n| Benefit (provision) for income taxes | ($2,863) | ($4,791) | $3,217 |\\n| Equity-method investment activity, net of tax | $16 | $4 | ($3) |\\n| Net income (loss) | $21,331 | $33,364 | ($2,722) |\\n| Basic earnings per share | $2.13 | $3.30 | ($0.27) |\\n| Diluted earnings per share | $2.09 | $3.24 | ($0.27) |\\n| **Weighted-average shares used in computation of earnings per share:** | | | |\\n| Basic | 10,005 | 10,117 | 10,189 |\\n| Diluted | 10,198 | 10,296 | 10,189 |\\n\\nSee accompanying notes to consolidated financial statements.\\n\\n37'}]}"
      ]
     },
     "execution_count": 41,
     "metadata": {},
     "output_type": "execute_result"
    }
   ],
   "source": [
    "results[0]"
   ]
  },
  {
   "cell_type": "code",
   "execution_count": 42,
   "id": "026b299a-e2fd-4e99-a820-59d5709336b9",
   "metadata": {
    "tags": []
   },
   "outputs": [
    {
     "name": "stdout",
     "output_type": "stream",
     "text": [
      "2024-04-18 14:35:34      42445 documents_processed.json\n"
     ]
    }
   ],
   "source": [
    "!aws s3 ls s3://{s3_bucket_name}"
   ]
  },
  {
   "cell_type": "code",
   "execution_count": 43,
   "id": "8bbfe388-5d95-4b43-aff0-72f60759ba78",
   "metadata": {
    "tags": []
   },
   "outputs": [
    {
     "name": "stdout",
     "output_type": "stream",
     "text": [
      "serverlessllmassistantstac-agentdatabucket67afdfb9-2puzdhyuanzd\n"
     ]
    }
   ],
   "source": [
    "print(s3_bucket_name)"
   ]
  },
  {
   "cell_type": "code",
   "execution_count": null,
   "id": "49529235-04f5-4a3e-b9e2-4e0555beb5b7",
   "metadata": {},
   "outputs": [],
   "source": []
  }
 ],
 "metadata": {
  "availableInstances": [
   {
    "_defaultOrder": 0,
    "_isFastLaunch": true,
    "category": "General purpose",
    "gpuNum": 0,
    "hideHardwareSpecs": false,
    "memoryGiB": 4,
    "name": "ml.t3.medium",
    "vcpuNum": 2
   },
   {
    "_defaultOrder": 1,
    "_isFastLaunch": false,
    "category": "General purpose",
    "gpuNum": 0,
    "hideHardwareSpecs": false,
    "memoryGiB": 8,
    "name": "ml.t3.large",
    "vcpuNum": 2
   },
   {
    "_defaultOrder": 2,
    "_isFastLaunch": false,
    "category": "General purpose",
    "gpuNum": 0,
    "hideHardwareSpecs": false,
    "memoryGiB": 16,
    "name": "ml.t3.xlarge",
    "vcpuNum": 4
   },
   {
    "_defaultOrder": 3,
    "_isFastLaunch": false,
    "category": "General purpose",
    "gpuNum": 0,
    "hideHardwareSpecs": false,
    "memoryGiB": 32,
    "name": "ml.t3.2xlarge",
    "vcpuNum": 8
   },
   {
    "_defaultOrder": 4,
    "_isFastLaunch": true,
    "category": "General purpose",
    "gpuNum": 0,
    "hideHardwareSpecs": false,
    "memoryGiB": 8,
    "name": "ml.m5.large",
    "vcpuNum": 2
   },
   {
    "_defaultOrder": 5,
    "_isFastLaunch": false,
    "category": "General purpose",
    "gpuNum": 0,
    "hideHardwareSpecs": false,
    "memoryGiB": 16,
    "name": "ml.m5.xlarge",
    "vcpuNum": 4
   },
   {
    "_defaultOrder": 6,
    "_isFastLaunch": false,
    "category": "General purpose",
    "gpuNum": 0,
    "hideHardwareSpecs": false,
    "memoryGiB": 32,
    "name": "ml.m5.2xlarge",
    "vcpuNum": 8
   },
   {
    "_defaultOrder": 7,
    "_isFastLaunch": false,
    "category": "General purpose",
    "gpuNum": 0,
    "hideHardwareSpecs": false,
    "memoryGiB": 64,
    "name": "ml.m5.4xlarge",
    "vcpuNum": 16
   },
   {
    "_defaultOrder": 8,
    "_isFastLaunch": false,
    "category": "General purpose",
    "gpuNum": 0,
    "hideHardwareSpecs": false,
    "memoryGiB": 128,
    "name": "ml.m5.8xlarge",
    "vcpuNum": 32
   },
   {
    "_defaultOrder": 9,
    "_isFastLaunch": false,
    "category": "General purpose",
    "gpuNum": 0,
    "hideHardwareSpecs": false,
    "memoryGiB": 192,
    "name": "ml.m5.12xlarge",
    "vcpuNum": 48
   },
   {
    "_defaultOrder": 10,
    "_isFastLaunch": false,
    "category": "General purpose",
    "gpuNum": 0,
    "hideHardwareSpecs": false,
    "memoryGiB": 256,
    "name": "ml.m5.16xlarge",
    "vcpuNum": 64
   },
   {
    "_defaultOrder": 11,
    "_isFastLaunch": false,
    "category": "General purpose",
    "gpuNum": 0,
    "hideHardwareSpecs": false,
    "memoryGiB": 384,
    "name": "ml.m5.24xlarge",
    "vcpuNum": 96
   },
   {
    "_defaultOrder": 12,
    "_isFastLaunch": false,
    "category": "General purpose",
    "gpuNum": 0,
    "hideHardwareSpecs": false,
    "memoryGiB": 8,
    "name": "ml.m5d.large",
    "vcpuNum": 2
   },
   {
    "_defaultOrder": 13,
    "_isFastLaunch": false,
    "category": "General purpose",
    "gpuNum": 0,
    "hideHardwareSpecs": false,
    "memoryGiB": 16,
    "name": "ml.m5d.xlarge",
    "vcpuNum": 4
   },
   {
    "_defaultOrder": 14,
    "_isFastLaunch": false,
    "category": "General purpose",
    "gpuNum": 0,
    "hideHardwareSpecs": false,
    "memoryGiB": 32,
    "name": "ml.m5d.2xlarge",
    "vcpuNum": 8
   },
   {
    "_defaultOrder": 15,
    "_isFastLaunch": false,
    "category": "General purpose",
    "gpuNum": 0,
    "hideHardwareSpecs": false,
    "memoryGiB": 64,
    "name": "ml.m5d.4xlarge",
    "vcpuNum": 16
   },
   {
    "_defaultOrder": 16,
    "_isFastLaunch": false,
    "category": "General purpose",
    "gpuNum": 0,
    "hideHardwareSpecs": false,
    "memoryGiB": 128,
    "name": "ml.m5d.8xlarge",
    "vcpuNum": 32
   },
   {
    "_defaultOrder": 17,
    "_isFastLaunch": false,
    "category": "General purpose",
    "gpuNum": 0,
    "hideHardwareSpecs": false,
    "memoryGiB": 192,
    "name": "ml.m5d.12xlarge",
    "vcpuNum": 48
   },
   {
    "_defaultOrder": 18,
    "_isFastLaunch": false,
    "category": "General purpose",
    "gpuNum": 0,
    "hideHardwareSpecs": false,
    "memoryGiB": 256,
    "name": "ml.m5d.16xlarge",
    "vcpuNum": 64
   },
   {
    "_defaultOrder": 19,
    "_isFastLaunch": false,
    "category": "General purpose",
    "gpuNum": 0,
    "hideHardwareSpecs": false,
    "memoryGiB": 384,
    "name": "ml.m5d.24xlarge",
    "vcpuNum": 96
   },
   {
    "_defaultOrder": 20,
    "_isFastLaunch": false,
    "category": "General purpose",
    "gpuNum": 0,
    "hideHardwareSpecs": true,
    "memoryGiB": 0,
    "name": "ml.geospatial.interactive",
    "supportedImageNames": [
     "sagemaker-geospatial-v1-0"
    ],
    "vcpuNum": 0
   },
   {
    "_defaultOrder": 21,
    "_isFastLaunch": true,
    "category": "Compute optimized",
    "gpuNum": 0,
    "hideHardwareSpecs": false,
    "memoryGiB": 4,
    "name": "ml.c5.large",
    "vcpuNum": 2
   },
   {
    "_defaultOrder": 22,
    "_isFastLaunch": false,
    "category": "Compute optimized",
    "gpuNum": 0,
    "hideHardwareSpecs": false,
    "memoryGiB": 8,
    "name": "ml.c5.xlarge",
    "vcpuNum": 4
   },
   {
    "_defaultOrder": 23,
    "_isFastLaunch": false,
    "category": "Compute optimized",
    "gpuNum": 0,
    "hideHardwareSpecs": false,
    "memoryGiB": 16,
    "name": "ml.c5.2xlarge",
    "vcpuNum": 8
   },
   {
    "_defaultOrder": 24,
    "_isFastLaunch": false,
    "category": "Compute optimized",
    "gpuNum": 0,
    "hideHardwareSpecs": false,
    "memoryGiB": 32,
    "name": "ml.c5.4xlarge",
    "vcpuNum": 16
   },
   {
    "_defaultOrder": 25,
    "_isFastLaunch": false,
    "category": "Compute optimized",
    "gpuNum": 0,
    "hideHardwareSpecs": false,
    "memoryGiB": 72,
    "name": "ml.c5.9xlarge",
    "vcpuNum": 36
   },
   {
    "_defaultOrder": 26,
    "_isFastLaunch": false,
    "category": "Compute optimized",
    "gpuNum": 0,
    "hideHardwareSpecs": false,
    "memoryGiB": 96,
    "name": "ml.c5.12xlarge",
    "vcpuNum": 48
   },
   {
    "_defaultOrder": 27,
    "_isFastLaunch": false,
    "category": "Compute optimized",
    "gpuNum": 0,
    "hideHardwareSpecs": false,
    "memoryGiB": 144,
    "name": "ml.c5.18xlarge",
    "vcpuNum": 72
   },
   {
    "_defaultOrder": 28,
    "_isFastLaunch": false,
    "category": "Compute optimized",
    "gpuNum": 0,
    "hideHardwareSpecs": false,
    "memoryGiB": 192,
    "name": "ml.c5.24xlarge",
    "vcpuNum": 96
   },
   {
    "_defaultOrder": 29,
    "_isFastLaunch": true,
    "category": "Accelerated computing",
    "gpuNum": 1,
    "hideHardwareSpecs": false,
    "memoryGiB": 16,
    "name": "ml.g4dn.xlarge",
    "vcpuNum": 4
   },
   {
    "_defaultOrder": 30,
    "_isFastLaunch": false,
    "category": "Accelerated computing",
    "gpuNum": 1,
    "hideHardwareSpecs": false,
    "memoryGiB": 32,
    "name": "ml.g4dn.2xlarge",
    "vcpuNum": 8
   },
   {
    "_defaultOrder": 31,
    "_isFastLaunch": false,
    "category": "Accelerated computing",
    "gpuNum": 1,
    "hideHardwareSpecs": false,
    "memoryGiB": 64,
    "name": "ml.g4dn.4xlarge",
    "vcpuNum": 16
   },
   {
    "_defaultOrder": 32,
    "_isFastLaunch": false,
    "category": "Accelerated computing",
    "gpuNum": 1,
    "hideHardwareSpecs": false,
    "memoryGiB": 128,
    "name": "ml.g4dn.8xlarge",
    "vcpuNum": 32
   },
   {
    "_defaultOrder": 33,
    "_isFastLaunch": false,
    "category": "Accelerated computing",
    "gpuNum": 4,
    "hideHardwareSpecs": false,
    "memoryGiB": 192,
    "name": "ml.g4dn.12xlarge",
    "vcpuNum": 48
   },
   {
    "_defaultOrder": 34,
    "_isFastLaunch": false,
    "category": "Accelerated computing",
    "gpuNum": 1,
    "hideHardwareSpecs": false,
    "memoryGiB": 256,
    "name": "ml.g4dn.16xlarge",
    "vcpuNum": 64
   },
   {
    "_defaultOrder": 35,
    "_isFastLaunch": false,
    "category": "Accelerated computing",
    "gpuNum": 1,
    "hideHardwareSpecs": false,
    "memoryGiB": 61,
    "name": "ml.p3.2xlarge",
    "vcpuNum": 8
   },
   {
    "_defaultOrder": 36,
    "_isFastLaunch": false,
    "category": "Accelerated computing",
    "gpuNum": 4,
    "hideHardwareSpecs": false,
    "memoryGiB": 244,
    "name": "ml.p3.8xlarge",
    "vcpuNum": 32
   },
   {
    "_defaultOrder": 37,
    "_isFastLaunch": false,
    "category": "Accelerated computing",
    "gpuNum": 8,
    "hideHardwareSpecs": false,
    "memoryGiB": 488,
    "name": "ml.p3.16xlarge",
    "vcpuNum": 64
   },
   {
    "_defaultOrder": 38,
    "_isFastLaunch": false,
    "category": "Accelerated computing",
    "gpuNum": 8,
    "hideHardwareSpecs": false,
    "memoryGiB": 768,
    "name": "ml.p3dn.24xlarge",
    "vcpuNum": 96
   },
   {
    "_defaultOrder": 39,
    "_isFastLaunch": false,
    "category": "Memory Optimized",
    "gpuNum": 0,
    "hideHardwareSpecs": false,
    "memoryGiB": 16,
    "name": "ml.r5.large",
    "vcpuNum": 2
   },
   {
    "_defaultOrder": 40,
    "_isFastLaunch": false,
    "category": "Memory Optimized",
    "gpuNum": 0,
    "hideHardwareSpecs": false,
    "memoryGiB": 32,
    "name": "ml.r5.xlarge",
    "vcpuNum": 4
   },
   {
    "_defaultOrder": 41,
    "_isFastLaunch": false,
    "category": "Memory Optimized",
    "gpuNum": 0,
    "hideHardwareSpecs": false,
    "memoryGiB": 64,
    "name": "ml.r5.2xlarge",
    "vcpuNum": 8
   },
   {
    "_defaultOrder": 42,
    "_isFastLaunch": false,
    "category": "Memory Optimized",
    "gpuNum": 0,
    "hideHardwareSpecs": false,
    "memoryGiB": 128,
    "name": "ml.r5.4xlarge",
    "vcpuNum": 16
   },
   {
    "_defaultOrder": 43,
    "_isFastLaunch": false,
    "category": "Memory Optimized",
    "gpuNum": 0,
    "hideHardwareSpecs": false,
    "memoryGiB": 256,
    "name": "ml.r5.8xlarge",
    "vcpuNum": 32
   },
   {
    "_defaultOrder": 44,
    "_isFastLaunch": false,
    "category": "Memory Optimized",
    "gpuNum": 0,
    "hideHardwareSpecs": false,
    "memoryGiB": 384,
    "name": "ml.r5.12xlarge",
    "vcpuNum": 48
   },
   {
    "_defaultOrder": 45,
    "_isFastLaunch": false,
    "category": "Memory Optimized",
    "gpuNum": 0,
    "hideHardwareSpecs": false,
    "memoryGiB": 512,
    "name": "ml.r5.16xlarge",
    "vcpuNum": 64
   },
   {
    "_defaultOrder": 46,
    "_isFastLaunch": false,
    "category": "Memory Optimized",
    "gpuNum": 0,
    "hideHardwareSpecs": false,
    "memoryGiB": 768,
    "name": "ml.r5.24xlarge",
    "vcpuNum": 96
   },
   {
    "_defaultOrder": 47,
    "_isFastLaunch": false,
    "category": "Accelerated computing",
    "gpuNum": 1,
    "hideHardwareSpecs": false,
    "memoryGiB": 16,
    "name": "ml.g5.xlarge",
    "vcpuNum": 4
   },
   {
    "_defaultOrder": 48,
    "_isFastLaunch": false,
    "category": "Accelerated computing",
    "gpuNum": 1,
    "hideHardwareSpecs": false,
    "memoryGiB": 32,
    "name": "ml.g5.2xlarge",
    "vcpuNum": 8
   },
   {
    "_defaultOrder": 49,
    "_isFastLaunch": false,
    "category": "Accelerated computing",
    "gpuNum": 1,
    "hideHardwareSpecs": false,
    "memoryGiB": 64,
    "name": "ml.g5.4xlarge",
    "vcpuNum": 16
   },
   {
    "_defaultOrder": 50,
    "_isFastLaunch": false,
    "category": "Accelerated computing",
    "gpuNum": 1,
    "hideHardwareSpecs": false,
    "memoryGiB": 128,
    "name": "ml.g5.8xlarge",
    "vcpuNum": 32
   },
   {
    "_defaultOrder": 51,
    "_isFastLaunch": false,
    "category": "Accelerated computing",
    "gpuNum": 1,
    "hideHardwareSpecs": false,
    "memoryGiB": 256,
    "name": "ml.g5.16xlarge",
    "vcpuNum": 64
   },
   {
    "_defaultOrder": 52,
    "_isFastLaunch": false,
    "category": "Accelerated computing",
    "gpuNum": 4,
    "hideHardwareSpecs": false,
    "memoryGiB": 192,
    "name": "ml.g5.12xlarge",
    "vcpuNum": 48
   },
   {
    "_defaultOrder": 53,
    "_isFastLaunch": false,
    "category": "Accelerated computing",
    "gpuNum": 4,
    "hideHardwareSpecs": false,
    "memoryGiB": 384,
    "name": "ml.g5.24xlarge",
    "vcpuNum": 96
   },
   {
    "_defaultOrder": 54,
    "_isFastLaunch": false,
    "category": "Accelerated computing",
    "gpuNum": 8,
    "hideHardwareSpecs": false,
    "memoryGiB": 768,
    "name": "ml.g5.48xlarge",
    "vcpuNum": 192
   },
   {
    "_defaultOrder": 55,
    "_isFastLaunch": false,
    "category": "Accelerated computing",
    "gpuNum": 8,
    "hideHardwareSpecs": false,
    "memoryGiB": 1152,
    "name": "ml.p4d.24xlarge",
    "vcpuNum": 96
   },
   {
    "_defaultOrder": 56,
    "_isFastLaunch": false,
    "category": "Accelerated computing",
    "gpuNum": 8,
    "hideHardwareSpecs": false,
    "memoryGiB": 1152,
    "name": "ml.p4de.24xlarge",
    "vcpuNum": 96
   },
   {
    "_defaultOrder": 57,
    "_isFastLaunch": false,
    "category": "Accelerated computing",
    "gpuNum": 0,
    "hideHardwareSpecs": false,
    "memoryGiB": 32,
    "name": "ml.trn1.2xlarge",
    "vcpuNum": 8
   },
   {
    "_defaultOrder": 58,
    "_isFastLaunch": false,
    "category": "Accelerated computing",
    "gpuNum": 0,
    "hideHardwareSpecs": false,
    "memoryGiB": 512,
    "name": "ml.trn1.32xlarge",
    "vcpuNum": 128
   },
   {
    "_defaultOrder": 59,
    "_isFastLaunch": false,
    "category": "Accelerated computing",
    "gpuNum": 0,
    "hideHardwareSpecs": false,
    "memoryGiB": 512,
    "name": "ml.trn1n.32xlarge",
    "vcpuNum": 128
   }
  ],
  "instance_type": "ml.t3.medium",
  "kernelspec": {
   "display_name": "Python 3 (Data Science 3.0)",
   "language": "python",
   "name": "python3__SAGEMAKER_INTERNAL__arn:aws:sagemaker:us-west-2:236514542706:image/sagemaker-data-science-310-v1"
  },
  "language_info": {
   "codemirror_mode": {
    "name": "ipython",
    "version": 3
   },
   "file_extension": ".py",
   "mimetype": "text/x-python",
   "name": "python",
   "nbconvert_exporter": "python",
   "pygments_lexer": "ipython3",
   "version": "3.10.6"
  }
 },
 "nbformat": 4,
 "nbformat_minor": 5
}
